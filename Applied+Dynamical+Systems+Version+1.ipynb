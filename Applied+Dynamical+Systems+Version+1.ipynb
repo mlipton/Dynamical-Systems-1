{
 "cells": [
  {
   "cell_type": "code",
   "execution_count": 4,
   "metadata": {},
   "outputs": [
    {
     "data": {
      "application/vnd.jupyter.widget-view+json": {
       "model_id": "13c8fddf8e214788860ff099e3fcdcb0",
       "version_major": 2,
       "version_minor": 0
      },
      "text/plain": [
       "A Jupyter Widget"
      ]
     },
     "metadata": {},
     "output_type": "display_data"
    }
   ],
   "source": [
    "from ipywidgets import interact, interactive, fixed, interact_manual\n",
    "import ipywidgets as widgets\n",
    "\n",
    "import matplotlib.pyplot as plt\n",
    "import numpy as np\n",
    "\n",
    "\n",
    "\n",
    "#Plots the manifolds for given parameter k\n",
    "def update(k):\n",
    "    #Applies the given dynamical system to [x,y] with parameter k predetermined\n",
    "    def g( vector ):\n",
    "        xinput = vector[0]\n",
    "        yinput = vector[1]\n",
    "\n",
    "        xoutput = xinput + k * xinput * (xinput - 1) + yinput\n",
    "        youtput = k * xinput * (xinput - 1) + yinput\n",
    "\n",
    "\n",
    "        return [xoutput, youtput]\n",
    "\n",
    "    #Applies the inverse of g to [x,y]\n",
    "    def ginv( vector ):\n",
    "        xinput = vector[0]\n",
    "        yinput = vector[1]\n",
    "\n",
    "        xoutput = xinput - yinput\n",
    "        youtput = yinput - k * xoutput * (xoutput - 1)\n",
    "\n",
    "        return [xoutput, youtput]\n",
    "\n",
    "    #Jacobian of g at [1,0] with parameter k\n",
    "    Dg = np.matrix([[1+k, 1],[k, 1]])\n",
    "\n",
    "\n",
    "\n",
    "    #Computes eigenvalues and eigenvalues of Dg\n",
    "    eig = np.linalg.eig(Dg)\n",
    "    eig1 = eig[0][0]\n",
    "    eig2 = eig[0][1]\n",
    "    eigvec1 = eig[1].T[0]\n",
    "    eigvec2 = eig[1].T[1]\n",
    "\n",
    "    eigplot1 = np.zeros([200,2])\n",
    "    eigplot2 = np.zeros([200,2])\n",
    "\n",
    "\n",
    "\n",
    "\n",
    "    #Samples 100 points in each eigenspace, translated to [1,0]\n",
    "    for i in range(0,200):\n",
    "        eigplot1[i] = [1,0] + (0.000001 * i - 0.0001) * eigvec1\n",
    "        eigplot2[i] = [1,0] + (0.000001 * i - 0.0001) * eigvec2\n",
    "\n",
    "\n",
    "    man1 = np.zeros([3000,2])\n",
    "    man2 = np.zeros([3000,2])\n",
    "\n",
    "\n",
    "\n",
    "    for i in range(0,200):\n",
    "        pt1 = eigplot1[i]\n",
    "        pt2 = eigplot2[i]\n",
    "        iterate1 = pt1\n",
    "        iterate2 = pt2\n",
    "        #print(g(iterate1))\n",
    "        for j in range(0,15):\n",
    "            #print(15 *i + j)\n",
    "            man1[15 * i + j] = iterate1\n",
    "            man2[15 * i + j] = iterate2     \n",
    "            if eig1 >= 1:\n",
    "                iterate1 = g( iterate1 )\n",
    "                label1 = \"Unstable Manifold\"\n",
    "            else:\n",
    "                iterate1 = ginv( iterate1 )\n",
    "                label1 = \"Stable Manifold\"\n",
    "            if eig2 >= 1:\n",
    "                iterate2 = g( iterate2 )\n",
    "                label2 = \"Unstable Manifold\"\n",
    "            else:\n",
    "                iterate2 = ginv( iterate2 )\n",
    "                label2 = \"Stable Manifold\"\n",
    "\n",
    "\n",
    "    plt.scatter(man1[:,0], man1[:,1], s = 0.9, label = label1)\n",
    "    plt.scatter(man2[:,0], man2[:,1], s = 0.9, label = label2)\n",
    "    plt.xlim([-1,2])\n",
    "    plt.ylim([-1,1])\n",
    "    plt.legend(loc = 'lower center')\n",
    "\n",
    "%matplotlib inline\n",
    "\n",
    "interact(update, k = widgets.FloatSlider(min = 0.0,max = 2.0,step = 0.05, value = 1.5));\n",
    "    \n",
    "plt.show()\n",
    "\n"
   ]
  },
  {
   "cell_type": "code",
   "execution_count": null,
   "metadata": {
    "collapsed": true
   },
   "outputs": [],
   "source": []
  }
 ],
 "metadata": {
  "kernelspec": {
   "display_name": "Python 3",
   "language": "python",
   "name": "python3"
  },
  "language_info": {
   "codemirror_mode": {
    "name": "ipython",
    "version": 3
   },
   "file_extension": ".py",
   "mimetype": "text/x-python",
   "name": "python",
   "nbconvert_exporter": "python",
   "pygments_lexer": "ipython3",
   "version": "3.6.3"
  }
 },
 "nbformat": 4,
 "nbformat_minor": 2
}
